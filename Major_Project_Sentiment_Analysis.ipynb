{
  "nbformat": 4,
  "nbformat_minor": 0,
  "metadata": {
    "colab": {
      "name": "Major_Project_Sentiment_Analysis.ipynb",
      "provenance": [],
      "collapsed_sections": [],
      "mount_file_id": "1uNJ3C0v4jY34q8_Y-03aUS8W35Ek0Xr2",
      "authorship_tag": "ABX9TyO9xHt6kUuIB+V3k+ZLF5sJ",
      "include_colab_link": true
    },
    "kernelspec": {
      "name": "python3",
      "display_name": "Python 3"
    }
  },
  "cells": [
    {
      "cell_type": "markdown",
      "metadata": {
        "id": "view-in-github",
        "colab_type": "text"
      },
      "source": [
        "<a href=\"https://colab.research.google.com/github/popuricharan666/Sentiment-Analysis/blob/main/Major_Project_Sentiment_Analysis.ipynb\" target=\"_parent\"><img src=\"https://colab.research.google.com/assets/colab-badge.svg\" alt=\"Open In Colab\"/></a>"
      ]
    },
    {
      "cell_type": "code",
      "metadata": {
        "colab": {
          "base_uri": "https://localhost:8080/"
        },
        "id": "RpSnFEJPlEhu",
        "outputId": "d94fdb55-038f-4def-bf1c-84beaef2d943"
      },
      "source": [
        "import pandas as pd\r\n",
        "import numpy as np\r\n",
        "from sklearn.feature_extraction.text import TfidfVectorizer\r\n",
        "import tensorflow as tf\r\n",
        "from tensorflow import keras\r\n",
        "\r\n",
        "import nltk\r\n",
        "nltk.download('stopwords')\r\n",
        "from nltk.corpus import stopwords\r\n",
        "import nltk\r\n",
        "from nltk.tokenize import RegexpTokenizer\r\n",
        "from nltk.stem import WordNetLemmatizer\r\n",
        "from nltk.stem.porter import PorterStemmer\r\n",
        "\r\n",
        "from sklearn.feature_extraction.text import TfidfVectorizer\r\n",
        "from sklearn.model_selection import train_test_split"
      ],
      "execution_count": null,
      "outputs": [
        {
          "output_type": "stream",
          "text": [
            "[nltk_data] Downloading package stopwords to /root/nltk_data...\n",
            "[nltk_data]   Unzipping corpora/stopwords.zip.\n"
          ],
          "name": "stdout"
        }
      ]
    },
    {
      "cell_type": "code",
      "metadata": {
        "colab": {
          "base_uri": "https://localhost:8080/",
          "height": 196
        },
        "id": "f3Ksz205lSDy",
        "outputId": "398f69ef-c067-4dd3-9991-ae895a29b5a4"
      },
      "source": [
        "df = pd.read_csv('/content/drive/MyDrive/data.csv')\r\n",
        "df.head()\r\n"
      ],
      "execution_count": null,
      "outputs": [
        {
          "output_type": "execute_result",
          "data": {
            "text/html": [
              "<div>\n",
              "<style scoped>\n",
              "    .dataframe tbody tr th:only-of-type {\n",
              "        vertical-align: middle;\n",
              "    }\n",
              "\n",
              "    .dataframe tbody tr th {\n",
              "        vertical-align: top;\n",
              "    }\n",
              "\n",
              "    .dataframe thead th {\n",
              "        text-align: right;\n",
              "    }\n",
              "</style>\n",
              "<table border=\"1\" class=\"dataframe\">\n",
              "  <thead>\n",
              "    <tr style=\"text-align: right;\">\n",
              "      <th></th>\n",
              "      <th>review</th>\n",
              "      <th>rating</th>\n",
              "    </tr>\n",
              "  </thead>\n",
              "  <tbody>\n",
              "    <tr>\n",
              "      <th>0</th>\n",
              "      <td>It was nice produt. I like it's design a lot. ...</td>\n",
              "      <td>5</td>\n",
              "    </tr>\n",
              "    <tr>\n",
              "      <th>1</th>\n",
              "      <td>awesome sound....very pretty to see this nd th...</td>\n",
              "      <td>5</td>\n",
              "    </tr>\n",
              "    <tr>\n",
              "      <th>2</th>\n",
              "      <td>awesome sound quality. pros 7-8 hrs of battery...</td>\n",
              "      <td>4</td>\n",
              "    </tr>\n",
              "    <tr>\n",
              "      <th>3</th>\n",
              "      <td>I think it is such a good product not only as ...</td>\n",
              "      <td>5</td>\n",
              "    </tr>\n",
              "    <tr>\n",
              "      <th>4</th>\n",
              "      <td>awesome bass sound quality very good bettary l...</td>\n",
              "      <td>5</td>\n",
              "    </tr>\n",
              "  </tbody>\n",
              "</table>\n",
              "</div>"
            ],
            "text/plain": [
              "                                              review  rating\n",
              "0  It was nice produt. I like it's design a lot. ...       5\n",
              "1  awesome sound....very pretty to see this nd th...       5\n",
              "2  awesome sound quality. pros 7-8 hrs of battery...       4\n",
              "3  I think it is such a good product not only as ...       5\n",
              "4  awesome bass sound quality very good bettary l...       5"
            ]
          },
          "metadata": {
            "tags": []
          },
          "execution_count": 3
        }
      ]
    },
    {
      "cell_type": "code",
      "metadata": {
        "id": "22kLsgKClzb6"
      },
      "source": [
        "#from google.colab import drive\r\n",
        "#drive.mount('/content/drive/MyDrive/data.csv')"
      ],
      "execution_count": null,
      "outputs": []
    },
    {
      "cell_type": "code",
      "metadata": {
        "colab": {
          "base_uri": "https://localhost:8080/",
          "height": 404
        },
        "id": "e3WqZ-sFlzfK",
        "outputId": "2c09297d-62ef-4b6b-c3ac-23e53f4e1ea2"
      },
      "source": [
        "import string\r\n",
        "\r\n",
        "def remove_punctuations(text):\r\n",
        "    for punctuation in string.punctuation:\r\n",
        "        text = text.replace(punctuation, '')\r\n",
        "    return text\r\n",
        "\r\n",
        "df['review'] = df['review'].apply(remove_punctuations)\r\n",
        "df"
      ],
      "execution_count": null,
      "outputs": [
        {
          "output_type": "execute_result",
          "data": {
            "text/html": [
              "<div>\n",
              "<style scoped>\n",
              "    .dataframe tbody tr th:only-of-type {\n",
              "        vertical-align: middle;\n",
              "    }\n",
              "\n",
              "    .dataframe tbody tr th {\n",
              "        vertical-align: top;\n",
              "    }\n",
              "\n",
              "    .dataframe thead th {\n",
              "        text-align: right;\n",
              "    }\n",
              "</style>\n",
              "<table border=\"1\" class=\"dataframe\">\n",
              "  <thead>\n",
              "    <tr style=\"text-align: right;\">\n",
              "      <th></th>\n",
              "      <th>review</th>\n",
              "      <th>rating</th>\n",
              "    </tr>\n",
              "  </thead>\n",
              "  <tbody>\n",
              "    <tr>\n",
              "      <th>0</th>\n",
              "      <td>It was nice produt I like its design a lot  It...</td>\n",
              "      <td>5</td>\n",
              "    </tr>\n",
              "    <tr>\n",
              "      <th>1</th>\n",
              "      <td>awesome soundvery pretty to see this nd the so...</td>\n",
              "      <td>5</td>\n",
              "    </tr>\n",
              "    <tr>\n",
              "      <th>2</th>\n",
              "      <td>awesome sound quality pros 78 hrs of battery l...</td>\n",
              "      <td>4</td>\n",
              "    </tr>\n",
              "    <tr>\n",
              "      <th>3</th>\n",
              "      <td>I think it is such a good product not only as ...</td>\n",
              "      <td>5</td>\n",
              "    </tr>\n",
              "    <tr>\n",
              "      <th>4</th>\n",
              "      <td>awesome bass sound quality very good bettary l...</td>\n",
              "      <td>5</td>\n",
              "    </tr>\n",
              "    <tr>\n",
              "      <th>...</th>\n",
              "      <td>...</td>\n",
              "      <td>...</td>\n",
              "    </tr>\n",
              "    <tr>\n",
              "      <th>9971</th>\n",
              "      <td>GoodREAD MORE</td>\n",
              "      <td>5</td>\n",
              "    </tr>\n",
              "    <tr>\n",
              "      <th>9972</th>\n",
              "      <td>Everything is amazimg but the built is very li...</td>\n",
              "      <td>5</td>\n",
              "    </tr>\n",
              "    <tr>\n",
              "      <th>9973</th>\n",
              "      <td>GoodREAD MORE</td>\n",
              "      <td>5</td>\n",
              "    </tr>\n",
              "    <tr>\n",
              "      <th>9974</th>\n",
              "      <td>Best headphone i have ever usedREAD MORE</td>\n",
              "      <td>5</td>\n",
              "    </tr>\n",
              "    <tr>\n",
              "      <th>9975</th>\n",
              "      <td>NiceREAD MORE</td>\n",
              "      <td>5</td>\n",
              "    </tr>\n",
              "  </tbody>\n",
              "</table>\n",
              "<p>9976 rows × 2 columns</p>\n",
              "</div>"
            ],
            "text/plain": [
              "                                                 review  rating\n",
              "0     It was nice produt I like its design a lot  It...       5\n",
              "1     awesome soundvery pretty to see this nd the so...       5\n",
              "2     awesome sound quality pros 78 hrs of battery l...       4\n",
              "3     I think it is such a good product not only as ...       5\n",
              "4     awesome bass sound quality very good bettary l...       5\n",
              "...                                                 ...     ...\n",
              "9971                                      GoodREAD MORE       5\n",
              "9972  Everything is amazimg but the built is very li...       5\n",
              "9973                                      GoodREAD MORE       5\n",
              "9974           Best headphone i have ever usedREAD MORE       5\n",
              "9975                                      NiceREAD MORE       5\n",
              "\n",
              "[9976 rows x 2 columns]"
            ]
          },
          "metadata": {
            "tags": []
          },
          "execution_count": 4
        }
      ]
    },
    {
      "cell_type": "code",
      "metadata": {
        "colab": {
          "base_uri": "https://localhost:8080/",
          "height": 35
        },
        "id": "6bcGi_08lzh5",
        "outputId": "88f1e15f-42b5-4c33-c347-13a96e9fe00b"
      },
      "source": [
        "string.punctuation"
      ],
      "execution_count": null,
      "outputs": [
        {
          "output_type": "execute_result",
          "data": {
            "application/vnd.google.colaboratory.intrinsic+json": {
              "type": "string"
            },
            "text/plain": [
              "'!\"#$%&\\'()*+,-./:;<=>?@[\\\\]^_`{|}~'"
            ]
          },
          "metadata": {
            "tags": []
          },
          "execution_count": 5
        }
      ]
    },
    {
      "cell_type": "code",
      "metadata": {
        "colab": {
          "base_uri": "https://localhost:8080/"
        },
        "id": "FD5WGm3Slzkz",
        "outputId": "91975b0c-db22-4399-dcde-b9e3bf1c6f30"
      },
      "source": [
        "tokenizer=RegexpTokenizer(r'\\w+')\r\n",
        "df['review']=df['review'].apply(lambda x: tokenizer.tokenize(x.lower()))\r\n",
        "df['review']"
      ],
      "execution_count": null,
      "outputs": [
        {
          "output_type": "execute_result",
          "data": {
            "text/plain": [
              "0       [it, was, nice, produt, i, like, its, design, ...\n",
              "1       [awesome, soundvery, pretty, to, see, this, nd...\n",
              "2       [awesome, sound, quality, pros, 78, hrs, of, b...\n",
              "3       [i, think, it, is, such, a, good, product, not...\n",
              "4       [awesome, bass, sound, quality, very, good, be...\n",
              "                              ...                        \n",
              "9971                                     [goodread, more]\n",
              "9972    [everything, is, amazimg, but, the, built, is,...\n",
              "9973                                     [goodread, more]\n",
              "9974     [best, headphone, i, have, ever, usedread, more]\n",
              "9975                                     [niceread, more]\n",
              "Name: review, Length: 9976, dtype: object"
            ]
          },
          "metadata": {
            "tags": []
          },
          "execution_count": 6
        }
      ]
    },
    {
      "cell_type": "code",
      "metadata": {
        "id": "8Mzqu4S3mMxx"
      },
      "source": [
        "# def removestopwords(s):\r\n",
        "#   words=[i for i in s if i not in stopwords.words('english')]\r\n",
        "#   print(words)\r\n",
        "#   return words\r\n",
        "\r\n",
        "# df['review']=df['review'].apply(lambda x: removestopwords(x))\r\n",
        "# df['review']\r\n",
        "\r\n",
        "# #takes lots of time here so be patient here"
      ],
      "execution_count": null,
      "outputs": []
    },
    {
      "cell_type": "code",
      "metadata": {
        "id": "iFGbqGJimM0d"
      },
      "source": [
        "stopwords.words(\"english\")"
      ],
      "execution_count": null,
      "outputs": []
    },
    {
      "cell_type": "code",
      "metadata": {
        "colab": {
          "base_uri": "https://localhost:8080/"
        },
        "id": "xBJN7xdqmM3m",
        "outputId": "09d14771-f917-4d9e-f930-079ebdcb2a4b"
      },
      "source": [
        "x = df.iloc[:,0].values\r\n",
        "y = df.iloc[:,1].values\r\n",
        "print(x)\r\n",
        "print(y)"
      ],
      "execution_count": null,
      "outputs": [
        {
          "output_type": "stream",
          "text": [
            "[list(['it', 'was', 'nice', 'produt', 'i', 'like', 'its', 'design', 'a', 'lot', 'its', 'easy', 'to', 'carry', 'and', 'looked', 'stylishread', 'more'])\n",
            " list(['awesome', 'soundvery', 'pretty', 'to', 'see', 'this', 'nd', 'the', 'sound', 'quality', 'was', 'too', 'good', 'i', 'wish', 'to', 'take', 'this', 'product', 'loved', 'this', 'product', 'read', 'more'])\n",
            " list(['awesome', 'sound', 'quality', 'pros', '78', 'hrs', 'of', 'battery', 'life', 'including', '45', 'mins', 'approx', 'call', 'timeawesome', 'sound', 'output', 'bass', 'and', 'treble', 'are', 'really', 'very', 'clear', 'without', 'equaliser', 'with', 'equaliser', 'sound', 'wary', 'depends', 'on', 'the', 'handset', 'sound', 'qualityweightless', 'to', 'carry', 'and', 'in', 'head', 'toomic', 'is', 'good', 'but', 'in', 'traffic', 'it', 'is', 'not', 'too', 'good', '325535mm', 'option', 'is', 'really', 'important', 'to', 'mention', 'really', 'expecting', 'other', 'leading', 'brands', 'to', 'implement', 'thisconsvery', 'tight', 'in', 'ears', 'adjusters', 'are', 'ok', 'this', 'll', 'be', 'very', 'tightread', 'more'])\n",
            " ... list(['goodread', 'more'])\n",
            " list(['best', 'headphone', 'i', 'have', 'ever', 'usedread', 'more'])\n",
            " list(['niceread', 'more'])]\n",
            "[5 5 4 ... 5 5 5]\n"
          ],
          "name": "stdout"
        }
      ]
    },
    {
      "cell_type": "code",
      "metadata": {
        "colab": {
          "base_uri": "https://localhost:8080/"
        },
        "id": "SDwN_AeVmNxm",
        "outputId": "4b2780bb-a2f5-4dcb-9f60-b5f56ef6909c"
      },
      "source": [
        "len(x)"
      ],
      "execution_count": null,
      "outputs": [
        {
          "output_type": "execute_result",
          "data": {
            "text/plain": [
              "9976"
            ]
          },
          "metadata": {
            "tags": []
          },
          "execution_count": 15
        }
      ]
    },
    {
      "cell_type": "code",
      "metadata": {
        "id": "J58sgdDdmN0B"
      },
      "source": [
        "def dummy_fun(doc):\r\n",
        "    return doc\r\n",
        "\r\n",
        "vectorizer = TfidfVectorizer(\r\n",
        "    analyzer='word',\r\n",
        "    tokenizer=dummy_fun,\r\n",
        "    preprocessor=dummy_fun,\r\n",
        "    token_pattern=None)  \r\n",
        "\r\n",
        "x = vectorizer.fit_transform(x)"
      ],
      "execution_count": null,
      "outputs": []
    },
    {
      "cell_type": "code",
      "metadata": {
        "id": "07dqoqajtGRM"
      },
      "source": [
        "#x_trans = x_hat.transform(x)"
      ],
      "execution_count": null,
      "outputs": []
    },
    {
      "cell_type": "code",
      "metadata": {
        "id": "GfMKgMgRmN2n"
      },
      "source": [
        "x = x.toarray()"
      ],
      "execution_count": null,
      "outputs": []
    },
    {
      "cell_type": "code",
      "metadata": {
        "colab": {
          "base_uri": "https://localhost:8080/"
        },
        "id": "YR7E3Pt2mN5R",
        "outputId": "5e7625c6-0bcc-4058-bd2e-59cddefa1eb0"
      },
      "source": [
        "x"
      ],
      "execution_count": null,
      "outputs": [
        {
          "output_type": "execute_result",
          "data": {
            "text/plain": [
              "array([[0., 0., 0., ..., 0., 0., 0.],\n",
              "       [0., 0., 0., ..., 0., 0., 0.],\n",
              "       [0., 0., 0., ..., 0., 0., 0.],\n",
              "       ...,\n",
              "       [0., 0., 0., ..., 0., 0., 0.],\n",
              "       [0., 0., 0., ..., 0., 0., 0.],\n",
              "       [0., 0., 0., ..., 0., 0., 0.]])"
            ]
          },
          "metadata": {
            "tags": []
          },
          "execution_count": 19
        }
      ]
    },
    {
      "cell_type": "code",
      "metadata": {
        "id": "YZtLa_2Mg_e0"
      },
      "source": [
        "x_train,x_test,y_train,y_test = train_test_split(x,y,test_size = 0.25,random_state = 0,stratify = y)"
      ],
      "execution_count": null,
      "outputs": []
    },
    {
      "cell_type": "code",
      "metadata": {
        "colab": {
          "base_uri": "https://localhost:8080/"
        },
        "id": "YOlsbueWg_hc",
        "outputId": "a436b675-6a87-49ac-acc8-cf6bb94d8dba"
      },
      "source": [
        "print(x_train.shape)\r\n",
        "print(y_train.shape)\r\n",
        "print(x_test.shape)\r\n",
        "print(y_test.shape)"
      ],
      "execution_count": null,
      "outputs": [
        {
          "output_type": "stream",
          "text": [
            "(7482, 9932)\n",
            "(7482,)\n",
            "(2494, 9932)\n",
            "(2494,)\n"
          ],
          "name": "stdout"
        }
      ]
    },
    {
      "cell_type": "code",
      "metadata": {
        "colab": {
          "base_uri": "https://localhost:8080/"
        },
        "id": "yPXwN4hZg_kU",
        "outputId": "52e21f61-be5d-4abd-dab3-273c79c73ad7"
      },
      "source": [
        "np.unique(y_train)"
      ],
      "execution_count": null,
      "outputs": [
        {
          "output_type": "execute_result",
          "data": {
            "text/plain": [
              "array([1, 2, 3, 4, 5])"
            ]
          },
          "metadata": {
            "tags": []
          },
          "execution_count": 22
        }
      ]
    },
    {
      "cell_type": "code",
      "metadata": {
        "id": "HJEcf_BNidVo"
      },
      "source": [
        "y_train_1 = keras.utils.to_categorical(y_train)\r\n",
        "y_test_1 = keras.utils.to_categorical(y_test)"
      ],
      "execution_count": null,
      "outputs": []
    },
    {
      "cell_type": "code",
      "metadata": {
        "id": "UpD3axr5idYT"
      },
      "source": [
        "y_train_1 = y_train_1[:, 1:]\r\n",
        "y_test_1 = y_test_1[:, 1:]"
      ],
      "execution_count": null,
      "outputs": []
    },
    {
      "cell_type": "code",
      "metadata": {
        "id": "m4ECCRpRidaX",
        "colab": {
          "base_uri": "https://localhost:8080/"
        },
        "outputId": "ce9d83de-1a98-4935-a31b-33d22ff0f5bf"
      },
      "source": [
        "y_train_1.shape"
      ],
      "execution_count": null,
      "outputs": [
        {
          "output_type": "execute_result",
          "data": {
            "text/plain": [
              "(7482, 5)"
            ]
          },
          "metadata": {
            "tags": []
          },
          "execution_count": 25
        }
      ]
    },
    {
      "cell_type": "code",
      "metadata": {
        "id": "CbTPOIVCidfH",
        "colab": {
          "base_uri": "https://localhost:8080/"
        },
        "outputId": "e0a35b6f-a773-41c2-b63a-3be59ed57bbd"
      },
      "source": [
        "y_test_1.shape"
      ],
      "execution_count": null,
      "outputs": [
        {
          "output_type": "execute_result",
          "data": {
            "text/plain": [
              "(2494, 5)"
            ]
          },
          "metadata": {
            "tags": []
          },
          "execution_count": 26
        }
      ]
    },
    {
      "cell_type": "code",
      "metadata": {
        "id": "O8JRiSIUidh7"
      },
      "source": [
        "model = keras.models.Sequential([keras.layers.BatchNormalization(input_dim=x_train.shape[1]),\r\n",
        "                                 keras.layers.Dense(100,kernel_initializer=\"he_normal\"),\r\n",
        "                                 keras.layers.PReLU(),\r\n",
        "                                 keras.layers.BatchNormalization(),\r\n",
        "                                 keras.layers.Dropout(0.2),\r\n",
        "                                 keras.layers.Dense(50,kernel_initializer=\"he_normal\"),\r\n",
        "                                 keras.layers.PReLU(),\r\n",
        "                                 keras.layers.BatchNormalization(),\r\n",
        "                                 keras.layers.Dense(5, \"softmax\"),\r\n",
        "                                 ])\r\n",
        "\r\n",
        "model.compile(loss=\"categorical_crossentropy\",\r\n",
        "              optimizer=keras.optimizers.Adam(),\r\n",
        "              metrics=[\"accuracy\"])\r\n",
        "\r\n",
        "early_stopping_cb = keras.callbacks.EarlyStopping(patience=10, restore_best_weights=True)"
      ],
      "execution_count": null,
      "outputs": []
    },
    {
      "cell_type": "code",
      "metadata": {
        "id": "htRE07E_idkl",
        "colab": {
          "base_uri": "https://localhost:8080/"
        },
        "outputId": "615a3a3f-7029-43a3-d327-006280c0786c"
      },
      "source": [
        "model.summary()"
      ],
      "execution_count": null,
      "outputs": [
        {
          "output_type": "stream",
          "text": [
            "Model: \"sequential\"\n",
            "_________________________________________________________________\n",
            "Layer (type)                 Output Shape              Param #   \n",
            "=================================================================\n",
            "batch_normalization (BatchNo (None, 9932)              39728     \n",
            "_________________________________________________________________\n",
            "dense (Dense)                (None, 100)               993300    \n",
            "_________________________________________________________________\n",
            "p_re_lu (PReLU)              (None, 100)               100       \n",
            "_________________________________________________________________\n",
            "batch_normalization_1 (Batch (None, 100)               400       \n",
            "_________________________________________________________________\n",
            "dropout (Dropout)            (None, 100)               0         \n",
            "_________________________________________________________________\n",
            "dense_1 (Dense)              (None, 50)                5050      \n",
            "_________________________________________________________________\n",
            "p_re_lu_1 (PReLU)            (None, 50)                50        \n",
            "_________________________________________________________________\n",
            "batch_normalization_2 (Batch (None, 50)                200       \n",
            "_________________________________________________________________\n",
            "dense_2 (Dense)              (None, 5)                 255       \n",
            "=================================================================\n",
            "Total params: 1,039,083\n",
            "Trainable params: 1,018,919\n",
            "Non-trainable params: 20,164\n",
            "_________________________________________________________________\n"
          ],
          "name": "stdout"
        }
      ]
    },
    {
      "cell_type": "code",
      "metadata": {
        "id": "mChgNXqyidnn",
        "colab": {
          "base_uri": "https://localhost:8080/"
        },
        "outputId": "fc950415-8e3f-4351-c27e-fd0693be3a72"
      },
      "source": [
        "history = model.fit(x_train, y_train_1, validation_data=(x_test, y_test_1), epochs=50, callbacks=[early_stopping_cb])"
      ],
      "execution_count": null,
      "outputs": [
        {
          "output_type": "stream",
          "text": [
            "Epoch 1/50\n",
            "234/234 [==============================] - 6s 18ms/step - loss: 1.5426 - accuracy: 0.4361 - val_loss: 1.0920 - val_accuracy: 0.5742\n",
            "Epoch 2/50\n",
            "234/234 [==============================] - 4s 17ms/step - loss: 0.7149 - accuracy: 0.7451 - val_loss: 0.9594 - val_accuracy: 0.6179\n",
            "Epoch 3/50\n",
            "234/234 [==============================] - 4s 16ms/step - loss: 0.5322 - accuracy: 0.8083 - val_loss: 1.1935 - val_accuracy: 0.6335\n",
            "Epoch 4/50\n",
            "234/234 [==============================] - 4s 17ms/step - loss: 0.4276 - accuracy: 0.8475 - val_loss: 1.6208 - val_accuracy: 0.5553\n",
            "Epoch 5/50\n",
            "234/234 [==============================] - 4s 17ms/step - loss: 0.4011 - accuracy: 0.8539 - val_loss: 1.9518 - val_accuracy: 0.4964\n",
            "Epoch 6/50\n",
            "234/234 [==============================] - 4s 17ms/step - loss: 0.3723 - accuracy: 0.8610 - val_loss: 1.8781 - val_accuracy: 0.5297\n",
            "Epoch 7/50\n",
            "234/234 [==============================] - 4s 17ms/step - loss: 0.3559 - accuracy: 0.8692 - val_loss: 2.7603 - val_accuracy: 0.3472\n",
            "Epoch 8/50\n",
            "234/234 [==============================] - 4s 16ms/step - loss: 0.3515 - accuracy: 0.8757 - val_loss: 2.0865 - val_accuracy: 0.5613\n",
            "Epoch 9/50\n",
            "234/234 [==============================] - 4s 16ms/step - loss: 0.3345 - accuracy: 0.8747 - val_loss: 2.2182 - val_accuracy: 0.5686\n",
            "Epoch 10/50\n",
            "234/234 [==============================] - 4s 17ms/step - loss: 0.3344 - accuracy: 0.8739 - val_loss: 2.3601 - val_accuracy: 0.5417\n",
            "Epoch 11/50\n",
            "234/234 [==============================] - 4s 17ms/step - loss: 0.3079 - accuracy: 0.8838 - val_loss: 2.2752 - val_accuracy: 0.5373\n",
            "Epoch 12/50\n",
            "234/234 [==============================] - 4s 17ms/step - loss: 0.3173 - accuracy: 0.8830 - val_loss: 2.2943 - val_accuracy: 0.5730\n"
          ],
          "name": "stdout"
        }
      ]
    },
    {
      "cell_type": "code",
      "metadata": {
        "id": "YpiqiQzYidqg",
        "colab": {
          "base_uri": "https://localhost:8080/",
          "height": 281
        },
        "outputId": "bf7bc190-9fcd-484b-9647-466fc7c4d25a"
      },
      "source": [
        "import matplotlib.pyplot as plt\r\n",
        "pd.DataFrame(history.history).plot()"
      ],
      "execution_count": null,
      "outputs": [
        {
          "output_type": "execute_result",
          "data": {
            "text/plain": [
              "<matplotlib.axes._subplots.AxesSubplot at 0x7f3c681a5890>"
            ]
          },
          "metadata": {
            "tags": []
          },
          "execution_count": 30
        },
        {
          "output_type": "display_data",
          "data": {
            "image/png": "[encoded data removed]",
            "text/plain": [
              "<Figure size 432x288 with 1 Axes>"
            ]
          },
          "metadata": {
            "tags": [],
            "needs_background": "light"
          }
        }
      ]
    },
    {
      "cell_type": "code",
      "metadata": {
        "id": "-tUdwdVKiqNn",
        "colab": {
          "base_uri": "https://localhost:8080/",
          "height": 1000
        },
        "outputId": "f345e6d8-fed5-42d9-915f-da2497237f98"
      },
      "source": [
        "!pip install streamlit\r\n",
        "!pip install pyngrok==4.1.1\r\n",
        "from pyngrok import ngrok"
      ],
      "execution_count": null,
      "outputs": [
        {
          "output_type": "stream",
          "text": [
            "Collecting streamlit\n",
            "\u001b[?25l  Downloading https://files.pythonhosted.org/packages/5f/3c/f0a97b684a49bd043bef9f8b8f4092b8a25bee9ad9a3f5e121a7161ded8f/streamlit-0.78.0-py2.py3-none-any.whl (7.5MB)\n",
            "\u001b[K     |████████████████████████████████| 7.5MB 6.3MB/s \n",
            "\u001b[?25hRequirement already satisfied: pyarrow; python_version < \"3.9\" in /usr/local/lib/python3.7/dist-packages (from streamlit) (3.0.0)\n",
            "Requirement already satisfied: python-dateutil in /usr/local/lib/python3.7/dist-packages (from streamlit) (2.8.1)\n",
            "Collecting base58\n",
            "  Downloading https://files.pythonhosted.org/packages/b8/a1/d9f565e9910c09fd325dc638765e8843a19fa696275c16cc08cf3b0a3c25/base58-2.1.0-py3-none-any.whl\n",
            "Requirement already satisfied: pillow>=6.2.0 in /usr/local/lib/python3.7/dist-packages (from streamlit) (7.0.0)\n",
            "Collecting gitpython\n",
            "\u001b[?25l  Downloading https://files.pythonhosted.org/packages/a6/99/98019716955ba243657daedd1de8f3a88ca1f5b75057c38e959db22fb87b/GitPython-3.1.14-py3-none-any.whl (159kB)\n",
            "\u001b[K     |████████████████████████████████| 163kB 49.0MB/s \n",
            "\u001b[?25hRequirement already satisfied: toml in /usr/local/lib/python3.7/dist-packages (from streamlit) (0.10.2)\n",
            "Collecting blinker\n",
            "\u001b[?25l  Downloading https://files.pythonhosted.org/packages/1b/51/e2a9f3b757eb802f61dc1f2b09c8c99f6eb01cf06416c0671253536517b6/blinker-1.4.tar.gz (111kB)\n",
            "\u001b[K     |████████████████████████████████| 112kB 51.9MB/s \n",
            "\u001b[?25hCollecting watchdog; platform_system != \"Darwin\"\n",
            "\u001b[?25l  Downloading https://files.pythonhosted.org/packages/c6/ba/a36ca5b4e75649a002f06531862467b3eb5c768caa23d6d88b921fe238d8/watchdog-2.0.2-py3-none-manylinux2014_x86_64.whl (74kB)\n",
            "\u001b[K     |████████████████████████████████| 81kB 8.3MB/s \n",
            "\u001b[?25hRequirement already satisfied: tornado>=5.0 in /usr/local/lib/python3.7/dist-packages (from streamlit) (5.1.1)\n",
            "Collecting validators\n",
            "  Downloading https://files.pythonhosted.org/packages/db/2f/7fed3ee94ad665ad2c1de87f858f10a7785251ff75b4fd47987888d07ef1/validators-0.18.2-py3-none-any.whl\n",
            "Requirement already satisfied: requests in /usr/local/lib/python3.7/dist-packages (from streamlit) (2.23.0)\n",
            "Requirement already satisfied: cachetools>=4.0 in /usr/local/lib/python3.7/dist-packages (from streamlit) (4.2.1)\n",
            "Requirement already satisfied: click>=7.0 in /usr/local/lib/python3.7/dist-packages (from streamlit) (7.1.2)\n",
            "Requirement already satisfied: astor in /usr/local/lib/python3.7/dist-packages (from streamlit) (0.8.1)\n",
            "Collecting pydeck>=0.1.dev5\n",
            "\u001b[?25l  Downloading https://files.pythonhosted.org/packages/1c/3f/8f04ae0c22d82ec7bec7fcc03270a142f637e362bbd285f7daeeda24fbef/pydeck-0.6.1-py2.py3-none-any.whl (4.6MB)\n",
            "\u001b[K     |████████████████████████████████| 4.6MB 13.7MB/s \n",
            "\u001b[?25hRequirement already satisfied: pandas>=0.21.0 in /usr/local/lib/python3.7/dist-packages (from streamlit) (1.1.5)\n",
            "Requirement already satisfied: protobuf!=3.11,>=3.6.0 in /usr/local/lib/python3.7/dist-packages (from streamlit) (3.12.4)\n",
            "Requirement already satisfied: tzlocal in /usr/local/lib/python3.7/dist-packages (from streamlit) (1.5.1)\n",
            "Requirement already satisfied: altair>=3.2.0 in /usr/local/lib/python3.7/dist-packages (from streamlit) (4.1.0)\n",
            "Requirement already satisfied: numpy in /usr/local/lib/python3.7/dist-packages (from streamlit) (1.19.5)\n",
            "Requirement already satisfied: packaging in /usr/local/lib/python3.7/dist-packages (from streamlit) (20.9)\n",
            "Requirement already satisfied: six>=1.5 in /usr/local/lib/python3.7/dist-packages (from python-dateutil->streamlit) (1.15.0)\n",
            "Collecting gitdb<5,>=4.0.1\n",
            "\u001b[?25l  Downloading https://files.pythonhosted.org/packages/48/11/d1800bca0a3bae820b84b7d813ad1eff15a48a64caea9c823fc8c1b119e8/gitdb-4.0.5-py3-none-any.whl (63kB)\n",
            "\u001b[K     |████████████████████████████████| 71kB 7.3MB/s \n",
            "\u001b[?25hRequirement already satisfied: decorator>=3.4.0 in /usr/local/lib/python3.7/dist-packages (from validators->streamlit) (4.4.2)\n",
            "Requirement already satisfied: certifi>=2017.4.17 in /usr/local/lib/python3.7/dist-packages (from requests->streamlit) (2020.12.5)\n",
            "Requirement already satisfied: chardet<4,>=3.0.2 in /usr/local/lib/python3.7/dist-packages (from requests->streamlit) (3.0.4)\n",
            "Requirement already satisfied: urllib3!=1.25.0,!=1.25.1,<1.26,>=1.21.1 in /usr/local/lib/python3.7/dist-packages (from requests->streamlit) (1.24.3)\n",
            "Requirement already satisfied: idna<3,>=2.5 in /usr/local/lib/python3.7/dist-packages (from requests->streamlit) (2.10)\n",
            "Collecting ipykernel>=5.1.2; python_version >= \"3.4\"\n",
            "\u001b[?25l  Downloading https://files.pythonhosted.org/packages/56/95/3a670c8b2c2370bd8631c313f42e60983b3113ffec4035940592252bd6d5/ipykernel-5.5.0-py3-none-any.whl (120kB)\n",
            "\u001b[K     |████████████████████████████████| 122kB 52.0MB/s \n",
            "\u001b[?25hRequirement already satisfied: ipywidgets>=7.0.0 in /usr/local/lib/python3.7/dist-packages (from pydeck>=0.1.dev5->streamlit) (7.6.3)\n",
            "Requirement already satisfied: jinja2>=2.10.1 in /usr/local/lib/python3.7/dist-packages (from pydeck>=0.1.dev5->streamlit) (2.11.3)\n",
            "Requirement already satisfied: traitlets>=4.3.2 in /usr/local/lib/python3.7/dist-packages (from pydeck>=0.1.dev5->streamlit) (5.0.5)\n",
            "Requirement already satisfied: pytz>=2017.2 in /usr/local/lib/python3.7/dist-packages (from pandas>=0.21.0->streamlit) (2018.9)\n",
            "Requirement already satisfied: setuptools in /usr/local/lib/python3.7/dist-packages (from protobuf!=3.11,>=3.6.0->streamlit) (54.0.0)\n",
            "Requirement already satisfied: toolz in /usr/local/lib/python3.7/dist-packages (from altair>=3.2.0->streamlit) (0.11.1)\n",
            "Requirement already satisfied: jsonschema in /usr/local/lib/python3.7/dist-packages (from altair>=3.2.0->streamlit) (2.6.0)\n",
            "Requirement already satisfied: entrypoints in /usr/local/lib/python3.7/dist-packages (from altair>=3.2.0->streamlit) (0.3)\n",
            "Requirement already satisfied: pyparsing>=2.0.2 in /usr/local/lib/python3.7/dist-packages (from packaging->streamlit) (2.4.7)\n",
            "Collecting smmap<4,>=3.0.1\n",
            "  Downloading https://files.pythonhosted.org/packages/d5/1e/6130925131f639b2acde0f7f18b73e33ce082ff2d90783c436b52040af5a/smmap-3.0.5-py2.py3-none-any.whl\n",
            "Requirement already satisfied: ipython>=5.0.0 in /usr/local/lib/python3.7/dist-packages (from ipykernel>=5.1.2; python_version >= \"3.4\"->pydeck>=0.1.dev5->streamlit) (5.5.0)\n",
            "Requirement already satisfied: jupyter-client in /usr/local/lib/python3.7/dist-packages (from ipykernel>=5.1.2; python_version >= \"3.4\"->pydeck>=0.1.dev5->streamlit) (5.3.5)\n",
            "Requirement already satisfied: nbformat>=4.2.0 in /usr/local/lib/python3.7/dist-packages (from ipywidgets>=7.0.0->pydeck>=0.1.dev5->streamlit) (5.1.2)\n",
            "Requirement already satisfied: widgetsnbextension~=3.5.0 in /usr/local/lib/python3.7/dist-packages (from ipywidgets>=7.0.0->pydeck>=0.1.dev5->streamlit) (3.5.1)\n",
            "Requirement already satisfied: jupyterlab-widgets>=1.0.0; python_version >= \"3.6\" in /usr/local/lib/python3.7/dist-packages (from ipywidgets>=7.0.0->pydeck>=0.1.dev5->streamlit) (1.0.0)\n",
            "Requirement already satisfied: MarkupSafe>=0.23 in /usr/local/lib/python3.7/dist-packages (from jinja2>=2.10.1->pydeck>=0.1.dev5->streamlit) (1.1.1)\n",
            "Requirement already satisfied: ipython-genutils in /usr/local/lib/python3.7/dist-packages (from traitlets>=4.3.2->pydeck>=0.1.dev5->streamlit) (0.2.0)\n",
            "Requirement already satisfied: pexpect; sys_platform != \"win32\" in /usr/local/lib/python3.7/dist-packages (from ipython>=5.0.0->ipykernel>=5.1.2; python_version >= \"3.4\"->pydeck>=0.1.dev5->streamlit) (4.8.0)\n",
            "Requirement already satisfied: pickleshare in /usr/local/lib/python3.7/dist-packages (from ipython>=5.0.0->ipykernel>=5.1.2; python_version >= \"3.4\"->pydeck>=0.1.dev5->streamlit) (0.7.5)\n",
            "Requirement already satisfied: simplegeneric>0.8 in /usr/local/lib/python3.7/dist-packages (from ipython>=5.0.0->ipykernel>=5.1.2; python_version >= \"3.4\"->pydeck>=0.1.dev5->streamlit) (0.8.1)\n",
            "Requirement already satisfied: prompt-toolkit<2.0.0,>=1.0.4 in /usr/local/lib/python3.7/dist-packages (from ipython>=5.0.0->ipykernel>=5.1.2; python_version >= \"3.4\"->pydeck>=0.1.dev5->streamlit) (1.0.18)\n",
            "Requirement already satisfied: pygments in /usr/local/lib/python3.7/dist-packages (from ipython>=5.0.0->ipykernel>=5.1.2; python_version >= \"3.4\"->pydeck>=0.1.dev5->streamlit) (2.6.1)\n",
            "Requirement already satisfied: pyzmq>=13 in /usr/local/lib/python3.7/dist-packages (from jupyter-client->ipykernel>=5.1.2; python_version >= \"3.4\"->pydeck>=0.1.dev5->streamlit) (22.0.3)\n",
            "Requirement already satisfied: jupyter-core>=4.6.0 in /usr/local/lib/python3.7/dist-packages (from jupyter-client->ipykernel>=5.1.2; python_version >= \"3.4\"->pydeck>=0.1.dev5->streamlit) (4.7.1)\n",
            "Requirement already satisfied: notebook>=4.4.1 in /usr/local/lib/python3.7/dist-packages (from widgetsnbextension~=3.5.0->ipywidgets>=7.0.0->pydeck>=0.1.dev5->streamlit) (5.3.1)\n",
            "Requirement already satisfied: ptyprocess>=0.5 in /usr/local/lib/python3.7/dist-packages (from pexpect; sys_platform != \"win32\"->ipython>=5.0.0->ipykernel>=5.1.2; python_version >= \"3.4\"->pydeck>=0.1.dev5->streamlit) (0.7.0)\n",
            "Requirement already satisfied: wcwidth in /usr/local/lib/python3.7/dist-packages (from prompt-toolkit<2.0.0,>=1.0.4->ipython>=5.0.0->ipykernel>=5.1.2; python_version >= \"3.4\"->pydeck>=0.1.dev5->streamlit) (0.2.5)\n",
            "Requirement already satisfied: Send2Trash in /usr/local/lib/python3.7/dist-packages (from notebook>=4.4.1->widgetsnbextension~=3.5.0->ipywidgets>=7.0.0->pydeck>=0.1.dev5->streamlit) (1.5.0)\n",
            "Requirement already satisfied: terminado>=0.8.1 in /usr/local/lib/python3.7/dist-packages (from notebook>=4.4.1->widgetsnbextension~=3.5.0->ipywidgets>=7.0.0->pydeck>=0.1.dev5->streamlit) (0.9.2)\n",
            "Requirement already satisfied: nbconvert in /usr/local/lib/python3.7/dist-packages (from notebook>=4.4.1->widgetsnbextension~=3.5.0->ipywidgets>=7.0.0->pydeck>=0.1.dev5->streamlit) (5.6.1)\n",
            "Requirement already satisfied: mistune<2,>=0.8.1 in /usr/local/lib/python3.7/dist-packages (from nbconvert->notebook>=4.4.1->widgetsnbextension~=3.5.0->ipywidgets>=7.0.0->pydeck>=0.1.dev5->streamlit) (0.8.4)\n",
            "Requirement already satisfied: testpath in /usr/local/lib/python3.7/dist-packages (from nbconvert->notebook>=4.4.1->widgetsnbextension~=3.5.0->ipywidgets>=7.0.0->pydeck>=0.1.dev5->streamlit) (0.4.4)\n",
            "Requirement already satisfied: pandocfilters>=1.4.1 in /usr/local/lib/python3.7/dist-packages (from nbconvert->notebook>=4.4.1->widgetsnbextension~=3.5.0->ipywidgets>=7.0.0->pydeck>=0.1.dev5->streamlit) (1.4.3)\n",
            "Requirement already satisfied: defusedxml in /usr/local/lib/python3.7/dist-packages (from nbconvert->notebook>=4.4.1->widgetsnbextension~=3.5.0->ipywidgets>=7.0.0->pydeck>=0.1.dev5->streamlit) (0.7.0)\n",
            "Requirement already satisfied: bleach in /usr/local/lib/python3.7/dist-packages (from nbconvert->notebook>=4.4.1->widgetsnbextension~=3.5.0->ipywidgets>=7.0.0->pydeck>=0.1.dev5->streamlit) (3.3.0)\n",
            "Requirement already satisfied: webencodings in /usr/local/lib/python3.7/dist-packages (from bleach->nbconvert->notebook>=4.4.1->widgetsnbextension~=3.5.0->ipywidgets>=7.0.0->pydeck>=0.1.dev5->streamlit) (0.5.1)\n",
            "Building wheels for collected packages: blinker\n",
            "  Building wheel for blinker (setup.py) ... \u001b[?25l\u001b[?25hdone\n",
            "  Created wheel for blinker: filename=blinker-1.4-cp37-none-any.whl size=13448 sha256=4a30b38e220f1b4d64b9ca1ccb86161dc6e703451c44b8cdf0d489e0560557c2\n",
            "  Stored in directory: /root/.cache/pip/wheels/92/a0/00/8690a57883956a301d91cf4ec999cc0b258b01e3f548f86e89\n",
            "Successfully built blinker\n",
            "\u001b[31mERROR: google-colab 1.0.0 has requirement ipykernel~=4.10, but you'll have ipykernel 5.5.0 which is incompatible.\u001b[0m\n",
            "Installing collected packages: base58, smmap, gitdb, gitpython, blinker, watchdog, validators, ipykernel, pydeck, streamlit\n",
            "  Found existing installation: ipykernel 4.10.1\n",
            "    Uninstalling ipykernel-4.10.1:\n",
            "      Successfully uninstalled ipykernel-4.10.1\n",
            "Successfully installed base58-2.1.0 blinker-1.4 gitdb-4.0.5 gitpython-3.1.14 ipykernel-5.5.0 pydeck-0.6.1 smmap-3.0.5 streamlit-0.78.0 validators-0.18.2 watchdog-2.0.2\n"
          ],
          "name": "stdout"
        },
        {
          "output_type": "display_data",
          "data": {
            "application/vnd.colab-display-data+json": {
              "pip_warning": {
                "packages": [
                  "ipykernel"
                ]
              }
            }
          },
          "metadata": {
            "tags": []
          }
        },
        {
          "output_type": "stream",
          "text": [
            "Collecting pyngrok==4.1.1\n",
            "  Downloading https://files.pythonhosted.org/packages/e4/a9/de2e15c92eb3aa4a2646ce3a7542317eb69ac47f667578ce8bf916320847/pyngrok-4.1.1.tar.gz\n",
            "Requirement already satisfied: future in /usr/local/lib/python3.7/dist-packages (from pyngrok==4.1.1) (0.16.0)\n",
            "Requirement already satisfied: PyYAML in /usr/local/lib/python3.7/dist-packages (from pyngrok==4.1.1) (3.13)\n",
            "Building wheels for collected packages: pyngrok\n",
            "  Building wheel for pyngrok (setup.py) ... \u001b[?25l\u001b[?25hdone\n",
            "  Created wheel for pyngrok: filename=pyngrok-4.1.1-cp37-none-any.whl size=15971 sha256=91b8837f7ddaff31c634f0553ae88299a7b0c9a61c9016c4a44d36a989f1d3af\n",
            "  Stored in directory: /root/.cache/pip/wheels/97/71/0d/1695f7c8815c0beb3b5d9b35d6eec9243c87e6070fbe3977fa\n",
            "Successfully built pyngrok\n",
            "Installing collected packages: pyngrok\n",
            "Successfully installed pyngrok-4.1.1\n"
          ],
          "name": "stdout"
        }
      ]
    },
    {
      "cell_type": "code",
      "metadata": {
        "id": "cYos1v-uiqQY",
        "colab": {
          "base_uri": "https://localhost:8080/"
        },
        "outputId": "61e9ab6e-8f82-4bce-8299-ad34095c0ef1"
      },
      "source": [
        "%%writefile app.py\r\n",
        "\r\n",
        "import streamlit as st\r\n",
        "import pandas as pd\r\n",
        "import numpy as np\r\n",
        "from sklearn.feature_extraction.text import TfidfVectorizer\r\n",
        "import tensorflow as tf\r\n",
        "from tensorflow import keras\r\n",
        "\r\n",
        "import nltk\r\n",
        "nltk.download('stopwords')\r\n",
        "from nltk.corpus import stopwords\r\n",
        "import nltk\r\n",
        "from nltk.tokenize import RegexpTokenizer\r\n",
        "from nltk.stem import WordNetLemmatizer\r\n",
        "from nltk.stem.porter import PorterStemmer\r\n",
        "import string\r\n",
        "\r\n",
        "from sklearn.feature_extraction.text import TfidfVectorizer\r\n",
        "from sklearn.model_selection import train_test_split\r\n",
        "\r\n",
        "df = pd.read_csv('/content/drive/MyDrive/data.csv')\r\n",
        "\r\n",
        "def remove_punctuations(text):\r\n",
        "    for punctuation in string.punctuation:\r\n",
        "        text = text.replace(punctuation, '')\r\n",
        "    return text\r\n",
        "\r\n",
        "df['review'] = df['review'].apply(remove_punctuations)\r\n",
        "\r\n",
        "tokenizer=RegexpTokenizer(r'\\w+')\r\n",
        "df['review']=df['review'].apply(lambda x: tokenizer.tokenize(x.lower()))\r\n",
        "\r\n",
        "def removestopwords(s):\r\n",
        "  words=[i for i in s if i not in stopwords.words('english')]\r\n",
        "  print(words)\r\n",
        "  return words\r\n",
        "\r\n",
        "x = df.iloc[:,0].values\r\n",
        "y = df.iloc[:,1].values\r\n",
        "\r\n",
        "def dummy_fun(doc):\r\n",
        "    return doc\r\n",
        "\r\n",
        "vectorizer = TfidfVectorizer(\r\n",
        "    analyzer='word',\r\n",
        "    tokenizer=dummy_fun,\r\n",
        "    preprocessor=dummy_fun,\r\n",
        "    token_pattern=None)  \r\n",
        "\r\n",
        "x = vectorizer.fit_transform(x)\r\n",
        "x = x.toarray()\r\n",
        "\r\n",
        "x_train,x_test,y_train,y_test = train_test_split(x,y,test_size = 0.05,random_state = 0,stratify = y)\r\n",
        "\r\n",
        "y_train = keras.utils.to_categorical(y_train)\r\n",
        "y_test = keras.utils.to_categorical(y_test)\r\n",
        "\r\n",
        "# y = keras.utils.to_categorical(y)\r\n",
        "# y = y[:, 1:]\r\n",
        "\r\n",
        "y_train = y_train[:, 1:]\r\n",
        "y_test = y_test[:, 1:]\r\n",
        "\r\n",
        "model = keras.models.Sequential([keras.layers.BatchNormalization(input_dim=x_train.shape[1]),\r\n",
        "                                 keras.layers.Dense(100,kernel_initializer=\"he_normal\"),\r\n",
        "                                 keras.layers.PReLU(),\r\n",
        "                                 keras.layers.BatchNormalization(),\r\n",
        "                                 keras.layers.Dropout(0.2),\r\n",
        "                                 keras.layers.Dense(50,kernel_initializer=\"he_normal\"),\r\n",
        "                                 keras.layers.PReLU(),\r\n",
        "                                 keras.layers.BatchNormalization(),\r\n",
        "                                 keras.layers.Dense(5, \"softmax\"),\r\n",
        "                                 ])\r\n",
        "\r\n",
        "model.compile(loss=\"categorical_crossentropy\",\r\n",
        "              optimizer=keras.optimizers.Adam(),\r\n",
        "              metrics=\"accuracy\")\r\n",
        "\r\n",
        "early_stopping_cb = keras.callbacks.EarlyStopping(patience=10, restore_best_weights=True)\r\n",
        "\r\n",
        "history = model.fit(x_train, y_train,validation_data=(x_test,y_test),\r\n",
        "                    epochs=50, callbacks=[early_stopping_cb])\r\n",
        "\r\n",
        "st.title('sentiment analysis')\r\n",
        "select = st.text_input('Enter your message')\r\n",
        "\r\n",
        "select = remove_punctuations(select)\r\n",
        "select = tokenizer.tokenize(select.lower())\r\n",
        "\r\n",
        "select = vectorizer.transform([select]).toarray()\r\n",
        "output = np.argmax(model.predict(select), axis=-1)\r\n",
        "\r\n",
        "st.title(output[0])\r\n"
      ],
      "execution_count": null,
      "outputs": [
        {
          "output_type": "stream",
          "text": [
            "Writing app.py\n"
          ],
          "name": "stdout"
        }
      ]
    },
    {
      "cell_type": "code",
      "metadata": {
        "id": "mLfkaQSqiqTf",
        "colab": {
          "base_uri": "https://localhost:8080/",
          "height": 52
        },
        "outputId": "7ce78f58-7d4b-48de-b867-2a06496e23a9"
      },
      "source": [
        "!nohup streamlit run app.py &\r\n",
        "url = ngrok.connect(port='8501')\r\n",
        "url"
      ],
      "execution_count": null,
      "outputs": [
        {
          "output_type": "stream",
          "text": [
            "nohup: appending output to 'nohup.out'\n"
          ],
          "name": "stdout"
        },
        {
          "output_type": "execute_result",
          "data": {
            "application/vnd.google.colaboratory.intrinsic+json": {
              "type": "string"
            },
            "text/plain": [
              "'http://fea2195c5082.ngrok.io'"
            ]
          },
          "metadata": {
            "tags": []
          },
          "execution_count": 33
        }
      ]
    },
    {
      "cell_type": "code",
      "metadata": {
        "id": "Vo2UjtKM_UDY",
        "colab": {
          "base_uri": "https://localhost:8080/"
        },
        "outputId": "fb31d51b-b52b-40f2-f317-7447b3bb58c6"
      },
      "source": [
        "select = 'I am not at all satisfied'\r\n",
        "select = remove_punctuations(select)\r\n",
        "select = tokenizer.tokenize(select.lower())\r\n",
        "select = vectorizer.transform([select]).toarray()\r\n",
        "output = np.argmax(model.predict(select), axis=-1)\r\n",
        "print(output[0])\r\n"
      ],
      "execution_count": null,
      "outputs": [
        {
          "output_type": "stream",
          "text": [
            "4\n"
          ],
          "name": "stdout"
        }
      ]
    },
    {
      "cell_type": "code",
      "metadata": {
        "id": "wm-jy_BuiqWL",
        "colab": {
          "base_uri": "https://localhost:8080/"
        },
        "outputId": "0ddf2e49-2374-4023-b3ac-d170f2a56422"
      },
      "source": [
        "df = pd.read_csv('/content/drive/MyDrive/data.csv')\r\n",
        "\r\n",
        "def remove_punctuations(text):\r\n",
        "    for punctuation in string.punctuation:\r\n",
        "        text = text.replace(punctuation, '')\r\n",
        "    return text\r\n",
        "\r\n",
        "df['review'] = df['review'].apply(remove_punctuations)\r\n",
        "\r\n",
        "tokenizer=RegexpTokenizer(r'\\w+')\r\n",
        "df['review']=df['review'].apply(lambda x: tokenizer.tokenize(x.lower()))\r\n",
        "\r\n",
        "def removestopwords(s):\r\n",
        "  words=[i for i in s if i not in stopwords.words('english')]\r\n",
        "  print(words)\r\n",
        "  return words\r\n",
        "\r\n",
        "x = df.iloc[:,0].values\r\n",
        "y = df.iloc[:,1].values\r\n",
        "\r\n",
        "def dummy_fun(doc):\r\n",
        "    return doc\r\n",
        "\r\n",
        "vectorizer = TfidfVectorizer(\r\n",
        "    analyzer='word',\r\n",
        "    tokenizer=dummy_fun,\r\n",
        "    preprocessor=dummy_fun,\r\n",
        "    token_pattern=None)  \r\n",
        "\r\n",
        "x = vectorizer.fit_transform(x)\r\n",
        "x = x.toarray()\r\n",
        "\r\n",
        "x_train,x_test,y_train,y_test = train_test_split(x,y,test_size = 0.05,random_state = 0,stratify = y)\r\n",
        "\r\n",
        "y_train = keras.utils.to_categorical(y_train)\r\n",
        "y_test = keras.utils.to_categorical(y_test)\r\n",
        "\r\n",
        "# y = keras.utils.to_categorical(y)\r\n",
        "# y = y[:, 1:]\r\n",
        "\r\n",
        "y_train = y_train[:, 1:]\r\n",
        "y_test = y_test[:, 1:]\r\n",
        "\r\n",
        "model = keras.models.Sequential([keras.layers.BatchNormalization(input_dim=x_train.shape[1]),\r\n",
        "                                 keras.layers.Dense(100,kernel_initializer=\"he_normal\"),\r\n",
        "                                 keras.layers.PReLU(),\r\n",
        "                                 keras.layers.BatchNormalization(),\r\n",
        "                                 keras.layers.Dropout(0.2),\r\n",
        "                                 keras.layers.Dense(50,kernel_initializer=\"he_normal\"),\r\n",
        "                                 keras.layers.PReLU(),\r\n",
        "                                 keras.layers.BatchNormalization(),\r\n",
        "                                 keras.layers.Dense(5, \"softmax\"),\r\n",
        "                                 ])\r\n",
        "\r\n",
        "model.compile(loss=\"categorical_crossentropy\",\r\n",
        "              optimizer=keras.optimizers.Adam(),\r\n",
        "              metrics=\"accuracy\")\r\n",
        "\r\n",
        "early_stopping_cb = keras.callbacks.EarlyStopping(patience=10, restore_best_weights=True)\r\n",
        "\r\n",
        "history = model.fit(x_train, y_train,validation_data=(x_test,y_test),\r\n",
        "                    epochs=50, callbacks=[early_stopping_cb])"
      ],
      "execution_count": null,
      "outputs": [
        {
          "output_type": "stream",
          "text": [
            "Epoch 1/50\n",
            "297/297 [==============================] - 12s 33ms/step - loss: 1.5257 - accuracy: 0.4452 - val_loss: 1.0618 - val_accuracy: 0.5832\n",
            "Epoch 2/50\n",
            "297/297 [==============================] - 9s 30ms/step - loss: 0.7092 - accuracy: 0.7432 - val_loss: 1.0016 - val_accuracy: 0.6092\n",
            "Epoch 3/50\n",
            "297/297 [==============================] - 9s 31ms/step - loss: 0.5407 - accuracy: 0.8012 - val_loss: 1.3660 - val_accuracy: 0.5912\n",
            "Epoch 4/50\n",
            "297/297 [==============================] - 9s 31ms/step - loss: 0.4636 - accuracy: 0.8306 - val_loss: 1.8266 - val_accuracy: 0.5150\n",
            "Epoch 5/50\n",
            "297/297 [==============================] - 9s 29ms/step - loss: 0.4099 - accuracy: 0.8548 - val_loss: 1.6828 - val_accuracy: 0.6212\n",
            "Epoch 6/50\n",
            "297/297 [==============================] - 5s 16ms/step - loss: 0.4027 - accuracy: 0.8511 - val_loss: 1.6746 - val_accuracy: 0.5892\n",
            "Epoch 7/50\n",
            "297/297 [==============================] - 5s 16ms/step - loss: 0.3704 - accuracy: 0.8643 - val_loss: 1.7830 - val_accuracy: 0.5892\n",
            "Epoch 8/50\n",
            "297/297 [==============================] - 5s 16ms/step - loss: 0.3614 - accuracy: 0.8656 - val_loss: 1.8948 - val_accuracy: 0.5752\n",
            "Epoch 9/50\n",
            "297/297 [==============================] - 5s 16ms/step - loss: 0.3503 - accuracy: 0.8687 - val_loss: 2.2532 - val_accuracy: 0.5070\n",
            "Epoch 10/50\n",
            "297/297 [==============================] - 5s 16ms/step - loss: 0.3412 - accuracy: 0.8734 - val_loss: 2.3635 - val_accuracy: 0.6012\n",
            "Epoch 11/50\n",
            "297/297 [==============================] - 5s 16ms/step - loss: 0.3385 - accuracy: 0.8711 - val_loss: 2.1550 - val_accuracy: 0.5912\n",
            "Epoch 12/50\n",
            "297/297 [==============================] - 5s 16ms/step - loss: 0.3328 - accuracy: 0.8727 - val_loss: 2.2697 - val_accuracy: 0.5792\n"
          ],
          "name": "stdout"
        }
      ]
    }
  ]
}